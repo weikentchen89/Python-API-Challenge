{
 "cells": [
  {
   "cell_type": "markdown",
   "metadata": {},
   "source": [
    "# WeatherPy\n",
    "\n",
    "---\n",
    "\n",
    "## Starter Code to Generate Random Geographic Coordinates and a List of Cities"
   ]
  },
  {
   "cell_type": "code",
   "execution_count": 4,
   "metadata": {
    "scrolled": true
   },
   "outputs": [],
   "source": [
    "# Dependencies and Setup\n",
    "import matplotlib.pyplot as plt\n",
    "import pandas as pd\n",
    "import numpy as np\n",
    "import requests\n",
    "import time\n",
    "from scipy.stats import linregress\n",
    "\n",
    "# Impor the OpenWeatherMap API key\n",
    "from api_keys import weather_api_key\n",
    "\n",
    "# Import citipy to determine the cities based on latitude and longitude\n",
    "from citipy import citipy"
   ]
  },
  {
   "cell_type": "code",
   "execution_count": 5,
   "metadata": {},
   "outputs": [
    {
     "name": "stdout",
     "output_type": "stream",
     "text": [
      "dac3859238616b097b1b85e9f72062cf\n"
     ]
    }
   ],
   "source": [
    "print(weather_api_key)"
   ]
  },
  {
   "cell_type": "markdown",
   "metadata": {},
   "source": [
    "### Generate the Cities List by Using the `citipy` Library"
   ]
  },
  {
   "cell_type": "code",
   "execution_count": 6,
   "metadata": {},
   "outputs": [
    {
     "name": "stdout",
     "output_type": "stream",
     "text": [
      "Number of cities in the list: 592\n"
     ]
    }
   ],
   "source": [
    "# Empty list for holding the latitude and longitude combinations\n",
    "lat_lngs = []\n",
    "\n",
    "# Empty list for holding the cities names\n",
    "cities = []\n",
    "\n",
    "# Range of latitudes and longitudes\n",
    "lat_range = (-90, 90)\n",
    "lng_range = (-180, 180)\n",
    "\n",
    "# Create a set of random lat and lng combinations\n",
    "lats = np.random.uniform(lat_range[0], lat_range[1], size=1500)\n",
    "lngs = np.random.uniform(lng_range[0], lng_range[1], size=1500)\n",
    "lat_lngs = zip(lats, lngs)\n",
    "\n",
    "# Identify nearest city for each lat, lng combination\n",
    "for lat_lng in lat_lngs:\n",
    "    city = citipy.nearest_city(lat_lng[0], lat_lng[1]).city_name\n",
    "    \n",
    "    # If the city is unique, then add it to a our cities list\n",
    "    if city not in cities:\n",
    "        cities.append(city)\n",
    "\n",
    "# Print the city count to confirm sufficient count\n",
    "print(f\"Number of cities in the list: {len(cities)}\")"
   ]
  },
  {
   "cell_type": "markdown",
   "metadata": {},
   "source": [
    "---"
   ]
  },
  {
   "cell_type": "markdown",
   "metadata": {},
   "source": [
    "## Requirement 1: Create Plots to Showcase the Relationship Between Weather Variables and Latitude\n",
    "\n",
    "### Use the OpenWeatherMap API to retrieve weather data from the cities list generated in the started code"
   ]
  },
  {
   "cell_type": "code",
   "execution_count": 7,
   "metadata": {},
   "outputs": [
    {
     "name": "stdout",
     "output_type": "stream",
     "text": [
      "Beginning Data Retrieval     \n",
      "-----------------------------\n",
      "Processing Record 1 of Set 1 | miranorte\n",
      "City not found. Skipping...\n",
      "Processing Record 2 of Set 1 | busselton\n",
      "Processing Record 3 of Set 1 | straumen\n",
      "Processing Record 4 of Set 1 | tokur\n",
      "Processing Record 5 of Set 1 | saint george\n",
      "Processing Record 6 of Set 1 | yellowknife\n",
      "Processing Record 7 of Set 1 | mataura\n",
      "Processing Record 8 of Set 1 | ushuaia\n",
      "Processing Record 9 of Set 1 | castro\n",
      "Processing Record 10 of Set 1 | sentyabrskiy\n",
      "City not found. Skipping...\n",
      "Processing Record 11 of Set 1 | belushya guba\n",
      "City not found. Skipping...\n",
      "Processing Record 12 of Set 1 | bredasdorp\n",
      "Processing Record 13 of Set 1 | atuona\n",
      "Processing Record 14 of Set 1 | barrow\n",
      "Processing Record 15 of Set 1 | zaqatala\n",
      "Processing Record 16 of Set 1 | bluff\n",
      "Processing Record 17 of Set 1 | hilo\n",
      "Processing Record 18 of Set 1 | airai\n",
      "Processing Record 19 of Set 1 | cape town\n",
      "Processing Record 20 of Set 1 | new norfolk\n",
      "Processing Record 21 of Set 1 | nizhneyansk\n",
      "City not found. Skipping...\n",
      "Processing Record 22 of Set 1 | jamestown\n",
      "Processing Record 23 of Set 1 | saskylakh\n",
      "Processing Record 24 of Set 1 | kununurra\n",
      "Processing Record 25 of Set 1 | rikitea\n",
      "Processing Record 26 of Set 1 | wegorzewo\n",
      "Processing Record 27 of Set 1 | ouesso\n",
      "Processing Record 28 of Set 1 | tasiilaq\n",
      "Processing Record 29 of Set 1 | la ronge\n",
      "Processing Record 30 of Set 1 | taolanaro\n",
      "City not found. Skipping...\n",
      "Processing Record 31 of Set 1 | punta arenas\n",
      "Processing Record 32 of Set 1 | clyde river\n",
      "Processing Record 33 of Set 1 | avarua\n",
      "Processing Record 34 of Set 1 | salihorsk\n",
      "Processing Record 35 of Set 1 | dudinka\n",
      "Processing Record 36 of Set 1 | bonthe\n",
      "Processing Record 37 of Set 1 | tura\n",
      "Processing Record 38 of Set 1 | vaini\n",
      "Processing Record 39 of Set 1 | katsiveli\n",
      "City not found. Skipping...\n",
      "Processing Record 40 of Set 1 | kapaa\n",
      "Processing Record 41 of Set 1 | bequimao\n",
      "Processing Record 42 of Set 1 | kupang\n",
      "Processing Record 43 of Set 1 | thompson\n",
      "Processing Record 44 of Set 1 | longyearbyen\n",
      "Processing Record 45 of Set 1 | palu\n",
      "Processing Record 46 of Set 1 | illoqqortoormiut\n",
      "City not found. Skipping...\n",
      "Processing Record 47 of Set 1 | calbuco\n",
      "Processing Record 48 of Set 1 | saint-francois\n",
      "Processing Record 49 of Set 1 | paracuru\n",
      "Processing Record 50 of Set 1 | hermanus\n",
      "Processing Record 0 of Set 2 | butaritari\n",
      "Processing Record 1 of Set 2 | esperance\n",
      "Processing Record 2 of Set 2 | saint-philippe\n",
      "Processing Record 3 of Set 2 | dingle\n",
      "Processing Record 4 of Set 2 | sola\n",
      "Processing Record 5 of Set 2 | kutum\n",
      "Processing Record 6 of Set 2 | tautira\n",
      "Processing Record 7 of Set 2 | saldanha\n",
      "Processing Record 8 of Set 2 | mehamn\n",
      "Processing Record 9 of Set 2 | aswan\n",
      "Processing Record 10 of Set 2 | komsomolskiy\n",
      "Processing Record 11 of Set 2 | alice springs\n",
      "Processing Record 12 of Set 2 | hervey bay\n",
      "Processing Record 13 of Set 2 | beringovskiy\n",
      "Processing Record 14 of Set 2 | dikson\n",
      "Processing Record 15 of Set 2 | yuzhne\n",
      "Processing Record 16 of Set 2 | madisonville\n",
      "Processing Record 17 of Set 2 | klaksvik\n",
      "Processing Record 18 of Set 2 | nikolskoye\n",
      "Processing Record 19 of Set 2 | zlobin\n",
      "Processing Record 20 of Set 2 | mys shmidta\n",
      "City not found. Skipping...\n",
      "Processing Record 21 of Set 2 | lebu\n",
      "Processing Record 22 of Set 2 | norman wells\n",
      "Processing Record 23 of Set 2 | maceio\n",
      "Processing Record 24 of Set 2 | prachuap khiri khan\n",
      "Processing Record 25 of Set 2 | codrington\n",
      "Processing Record 26 of Set 2 | samalaeulu\n",
      "City not found. Skipping...\n",
      "Processing Record 27 of Set 2 | mateare\n",
      "Processing Record 28 of Set 2 | tabialan\n",
      "City not found. Skipping...\n",
      "Processing Record 29 of Set 2 | novyy urengoy\n",
      "Processing Record 30 of Set 2 | vostok\n",
      "Processing Record 31 of Set 2 | tuktoyaktuk\n",
      "Processing Record 32 of Set 2 | impfondo\n",
      "Processing Record 33 of Set 2 | isangel\n",
      "Processing Record 34 of Set 2 | ruatoria\n",
      "City not found. Skipping...\n",
      "Processing Record 35 of Set 2 | puerto ayora\n",
      "Processing Record 36 of Set 2 | chuy\n",
      "Processing Record 37 of Set 2 | huntsville\n",
      "Processing Record 38 of Set 2 | attawapiskat\n",
      "City not found. Skipping...\n",
      "Processing Record 39 of Set 2 | makinsk\n",
      "Processing Record 40 of Set 2 | kaitangata\n",
      "Processing Record 41 of Set 2 | pisco\n",
      "Processing Record 42 of Set 2 | manokwari\n",
      "Processing Record 43 of Set 2 | hualmay\n",
      "Processing Record 44 of Set 2 | mar del plata\n",
      "Processing Record 45 of Set 2 | lagoa\n",
      "Processing Record 46 of Set 2 | bolgatanga\n",
      "Processing Record 47 of Set 2 | san quintin\n",
      "Processing Record 48 of Set 2 | yarmouth\n",
      "Processing Record 49 of Set 2 | mayo\n",
      "Processing Record 0 of Set 3 | port alfred\n",
      "Processing Record 1 of Set 3 | hobart\n",
      "Processing Record 2 of Set 3 | artyk\n",
      "City not found. Skipping...\n",
      "Processing Record 3 of Set 3 | qaanaaq\n",
      "Processing Record 4 of Set 3 | bengkulu\n",
      "Processing Record 5 of Set 3 | kurgan\n",
      "Processing Record 6 of Set 3 | te anau\n",
      "Processing Record 7 of Set 3 | ust-maya\n",
      "Processing Record 8 of Set 3 | khabary\n",
      "Processing Record 9 of Set 3 | faya\n",
      "Processing Record 10 of Set 3 | cabo san lucas\n",
      "Processing Record 11 of Set 3 | lubbock\n",
      "Processing Record 12 of Set 3 | yulara\n",
      "Processing Record 13 of Set 3 | provideniya\n",
      "Processing Record 14 of Set 3 | katsuura\n",
      "Processing Record 15 of Set 3 | markova\n",
      "Processing Record 16 of Set 3 | calimete\n",
      "Processing Record 17 of Set 3 | tongliao\n",
      "Processing Record 18 of Set 3 | andreapol\n",
      "Processing Record 19 of Set 3 | fukue\n",
      "Processing Record 20 of Set 3 | gadung\n",
      "Processing Record 21 of Set 3 | port elizabeth\n",
      "Processing Record 22 of Set 3 | bambous virieux\n",
      "Processing Record 23 of Set 3 | husavik\n",
      "Processing Record 24 of Set 3 | kuito\n",
      "Processing Record 25 of Set 3 | acapulco\n",
      "Processing Record 26 of Set 3 | port hardy\n",
      "Processing Record 27 of Set 3 | savinka\n",
      "Processing Record 28 of Set 3 | alofi\n",
      "Processing Record 29 of Set 3 | hithadhoo\n",
      "Processing Record 30 of Set 3 | albany\n",
      "Processing Record 31 of Set 3 | jumla\n",
      "Processing Record 32 of Set 3 | ponta do sol\n",
      "Processing Record 33 of Set 3 | mount gambier\n",
      "Processing Record 34 of Set 3 | narsaq\n",
      "Processing Record 35 of Set 3 | sao filipe\n",
      "Processing Record 36 of Set 3 | bambanglipuro\n",
      "Processing Record 37 of Set 3 | zwedru\n",
      "Processing Record 38 of Set 3 | baraboo\n",
      "Processing Record 39 of Set 3 | barentsburg\n",
      "City not found. Skipping...\n",
      "Processing Record 40 of Set 3 | black river\n",
      "Processing Record 41 of Set 3 | erenhot\n",
      "Processing Record 42 of Set 3 | xinzhi\n",
      "Processing Record 43 of Set 3 | hasaki\n",
      "Processing Record 44 of Set 3 | ancud\n",
      "Processing Record 45 of Set 3 | westport\n",
      "Processing Record 46 of Set 3 | ariano irpino\n",
      "Processing Record 47 of Set 3 | rawson\n",
      "Processing Record 48 of Set 3 | nampa\n",
      "Processing Record 49 of Set 3 | victoria\n",
      "Processing Record 0 of Set 4 | mezhdurechensk\n",
      "Processing Record 1 of Set 4 | mahebourg\n",
      "Processing Record 2 of Set 4 | eldikan\n",
      "City not found. Skipping...\n",
      "Processing Record 3 of Set 4 | rovaniemi\n",
      "Processing Record 4 of Set 4 | lompoc\n",
      "Processing Record 5 of Set 4 | patacamaya\n",
      "Processing Record 6 of Set 4 | machali\n",
      "Processing Record 7 of Set 4 | saint-denis\n",
      "Processing Record 8 of Set 4 | srednekolymsk\n",
      "Processing Record 9 of Set 4 | vaitupu\n",
      "City not found. Skipping...\n",
      "Processing Record 10 of Set 4 | cockburn harbour\n",
      "City not found. Skipping...\n",
      "Processing Record 11 of Set 4 | east london\n",
      "Processing Record 12 of Set 4 | margate\n",
      "Processing Record 13 of Set 4 | rungata\n",
      "City not found. Skipping...\n",
      "Processing Record 14 of Set 4 | farafangana\n",
      "Processing Record 15 of Set 4 | rafaela\n",
      "Processing Record 16 of Set 4 | carnarvon\n",
      "Processing Record 17 of Set 4 | palabuhanratu\n",
      "City not found. Skipping...\n",
      "Processing Record 18 of Set 4 | saint-louis\n",
      "Processing Record 19 of Set 4 | ibra\n",
      "Processing Record 20 of Set 4 | manati\n",
      "Processing Record 21 of Set 4 | luderitz\n",
      "Processing Record 22 of Set 4 | bolshoye sorokino\n",
      "City not found. Skipping...\n",
      "Processing Record 23 of Set 4 | nueva concepcion\n",
      "Processing Record 24 of Set 4 | puerto rondon\n",
      "Processing Record 25 of Set 4 | aksarka\n",
      "Processing Record 26 of Set 4 | toora-khem\n",
      "Processing Record 27 of Set 4 | amapa\n",
      "Processing Record 28 of Set 4 | milove\n",
      "Processing Record 29 of Set 4 | poya\n",
      "Processing Record 30 of Set 4 | mulege\n",
      "Processing Record 31 of Set 4 | dillon\n",
      "Processing Record 32 of Set 4 | areka\n",
      "Processing Record 33 of Set 4 | chokurdakh\n",
      "Processing Record 34 of Set 4 | havre-saint-pierre\n",
      "Processing Record 35 of Set 4 | port blair\n",
      "Processing Record 36 of Set 4 | sorland\n",
      "Processing Record 37 of Set 4 | andenes\n",
      "Processing Record 38 of Set 4 | riyadh\n",
      "Processing Record 39 of Set 4 | carora\n",
      "Processing Record 40 of Set 4 | torbay\n",
      "Processing Record 41 of Set 4 | severo-kurilsk\n",
      "Processing Record 42 of Set 4 | satitoa\n",
      "City not found. Skipping...\n",
      "Processing Record 43 of Set 4 | cayenne\n",
      "Processing Record 44 of Set 4 | nanortalik\n",
      "Processing Record 45 of Set 4 | tsihombe\n",
      "City not found. Skipping...\n",
      "Processing Record 46 of Set 4 | san patricio\n",
      "Processing Record 47 of Set 4 | pacific grove\n",
      "Processing Record 48 of Set 4 | havoysund\n",
      "Processing Record 49 of Set 4 | ribeira grande\n",
      "Processing Record 0 of Set 5 | ilulissat\n",
      "Processing Record 1 of Set 5 | kavieng\n",
      "Processing Record 2 of Set 5 | doha\n",
      "Processing Record 3 of Set 5 | iqaluit\n",
      "Processing Record 4 of Set 5 | kodiak\n",
      "Processing Record 5 of Set 5 | mbini\n",
      "Processing Record 6 of Set 5 | ahuimanu\n",
      "Processing Record 7 of Set 5 | madang\n",
      "Processing Record 8 of Set 5 | haibowan\n",
      "City not found. Skipping...\n",
      "Processing Record 9 of Set 5 | ko samui\n",
      "Processing Record 10 of Set 5 | santa rosa de aguan\n",
      "Processing Record 11 of Set 5 | salalah\n",
      "Processing Record 12 of Set 5 | faanui\n",
      "Processing Record 13 of Set 5 | wahran\n",
      "City not found. Skipping...\n",
      "Processing Record 14 of Set 5 | haines junction\n",
      "Processing Record 15 of Set 5 | sakaraha\n",
      "Processing Record 16 of Set 5 | vaasa\n",
      "Processing Record 17 of Set 5 | itarema\n",
      "Processing Record 18 of Set 5 | burica\n",
      "City not found. Skipping...\n",
      "Processing Record 19 of Set 5 | gunjur\n",
      "Processing Record 20 of Set 5 | ostrovnoy\n",
      "Processing Record 21 of Set 5 | bethel\n",
      "Processing Record 22 of Set 5 | malanje\n",
      "City not found. Skipping...\n",
      "Processing Record 23 of Set 5 | hamilton\n",
      "Processing Record 24 of Set 5 | harper\n",
      "Processing Record 25 of Set 5 | kemijarvi\n",
      "Processing Record 26 of Set 5 | fredonia\n",
      "Processing Record 27 of Set 5 | gazojak\n",
      "Processing Record 28 of Set 5 | magdalena\n",
      "Processing Record 29 of Set 5 | saint andrews\n",
      "Processing Record 30 of Set 5 | avera\n",
      "Processing Record 31 of Set 5 | caiaponia\n",
      "Processing Record 32 of Set 5 | sisimiut\n",
      "Processing Record 33 of Set 5 | maloshuyka\n",
      "City not found. Skipping...\n",
      "Processing Record 34 of Set 5 | hofn\n",
      "Processing Record 35 of Set 5 | ossora\n",
      "Processing Record 36 of Set 5 | kamenka\n",
      "Processing Record 37 of Set 5 | adrar\n",
      "Processing Record 38 of Set 5 | chicama\n",
      "Processing Record 39 of Set 5 | vila do maio\n",
      "Processing Record 40 of Set 5 | georgetown\n",
      "Processing Record 41 of Set 5 | laguna\n",
      "Processing Record 42 of Set 5 | geraldton\n",
      "Processing Record 43 of Set 5 | yelizovo\n",
      "Processing Record 44 of Set 5 | tselina\n",
      "Processing Record 45 of Set 5 | beruwala\n",
      "Processing Record 46 of Set 5 | muros\n",
      "Processing Record 47 of Set 5 | caravelas\n",
      "Processing Record 48 of Set 5 | pedro ii\n",
      "Processing Record 49 of Set 5 | pangnirtung\n",
      "Processing Record 0 of Set 6 | brewster\n",
      "Processing Record 1 of Set 6 | moussoro\n",
      "Processing Record 2 of Set 6 | yanaul\n",
      "Processing Record 3 of Set 6 | vaitape\n",
      "Processing Record 4 of Set 6 | seguin\n",
      "Processing Record 5 of Set 6 | hengshui\n",
      "Processing Record 6 of Set 6 | batagay-alyta\n",
      "Processing Record 7 of Set 6 | dunedin\n",
      "Processing Record 8 of Set 6 | pasewalk\n",
      "Processing Record 9 of Set 6 | viedma\n",
      "Processing Record 10 of Set 6 | augusto correa\n",
      "Processing Record 11 of Set 6 | atar\n",
      "Processing Record 12 of Set 6 | pokhara\n",
      "Processing Record 13 of Set 6 | tsogni\n",
      "Processing Record 14 of Set 6 | sao joao da barra\n",
      "Processing Record 15 of Set 6 | ulladulla\n",
      "Processing Record 16 of Set 6 | narrabri\n",
      "Processing Record 17 of Set 6 | tuatapere\n",
      "Processing Record 18 of Set 6 | khatanga\n",
      "Processing Record 19 of Set 6 | hambantota\n",
      "Processing Record 20 of Set 6 | tougan\n",
      "Processing Record 21 of Set 6 | kapit\n",
      "Processing Record 22 of Set 6 | vao\n",
      "Processing Record 23 of Set 6 | las guacamayas\n",
      "Processing Record 24 of Set 6 | cidreira\n",
      "Processing Record 25 of Set 6 | aklavik\n",
      "Processing Record 26 of Set 6 | luan\n",
      "Processing Record 27 of Set 6 | gat\n",
      "Processing Record 28 of Set 6 | kletnya\n",
      "Processing Record 29 of Set 6 | fort stewart\n",
      "Processing Record 30 of Set 6 | tazovskiy\n",
      "Processing Record 31 of Set 6 | chama\n",
      "Processing Record 32 of Set 6 | morgan city\n",
      "Processing Record 33 of Set 6 | juneau\n",
      "Processing Record 34 of Set 6 | troitsko-pechorsk\n",
      "Processing Record 35 of Set 6 | yumen\n",
      "Processing Record 36 of Set 6 | grand centre\n",
      "City not found. Skipping...\n",
      "Processing Record 37 of Set 6 | tabiauea\n",
      "City not found. Skipping...\n",
      "Processing Record 38 of Set 6 | durban\n",
      "Processing Record 39 of Set 6 | halalo\n",
      "City not found. Skipping...\n",
      "Processing Record 40 of Set 6 | dukat\n",
      "Processing Record 41 of Set 6 | macherla\n",
      "Processing Record 42 of Set 6 | constitucion\n",
      "Processing Record 43 of Set 6 | ninghai\n",
      "Processing Record 44 of Set 6 | teeli\n",
      "Processing Record 45 of Set 6 | pangkalanbuun\n",
      "Processing Record 46 of Set 6 | yeppoon\n",
      "Processing Record 47 of Set 6 | saint-augustin\n",
      "Processing Record 48 of Set 6 | awbari\n",
      "Processing Record 49 of Set 6 | constantine\n",
      "Processing Record 0 of Set 7 | elizabethton\n",
      "Processing Record 1 of Set 7 | fort saint john\n",
      "City not found. Skipping...\n",
      "Processing Record 2 of Set 7 | mbarara\n",
      "Processing Record 3 of Set 7 | gobabis\n",
      "Processing Record 4 of Set 7 | darovskoy\n",
      "Processing Record 5 of Set 7 | asau\n",
      "Processing Record 6 of Set 7 | evensk\n",
      "Processing Record 7 of Set 7 | key west\n",
      "Processing Record 8 of Set 7 | lorengau\n",
      "Processing Record 9 of Set 7 | hearst\n",
      "Processing Record 10 of Set 7 | kosino\n",
      "Processing Record 11 of Set 7 | alta floresta\n",
      "Processing Record 12 of Set 7 | kisangani\n",
      "Processing Record 13 of Set 7 | amderma\n",
      "City not found. Skipping...\n",
      "Processing Record 14 of Set 7 | pekan\n",
      "Processing Record 15 of Set 7 | invermere\n",
      "Processing Record 16 of Set 7 | miandrivazo\n",
      "Processing Record 17 of Set 7 | san cristobal\n",
      "Processing Record 18 of Set 7 | chupei\n",
      "City not found. Skipping...\n",
      "Processing Record 19 of Set 7 | bara\n",
      "Processing Record 20 of Set 7 | cherskiy\n",
      "Processing Record 21 of Set 7 | tapes\n",
      "Processing Record 22 of Set 7 | sanmenxia\n",
      "Processing Record 23 of Set 7 | launceston\n",
      "Processing Record 24 of Set 7 | sur\n",
      "Processing Record 25 of Set 7 | oliver\n",
      "Processing Record 26 of Set 7 | glendive\n",
      "Processing Record 27 of Set 7 | boa vista\n",
      "Processing Record 28 of Set 7 | rio gallegos\n",
      "Processing Record 29 of Set 7 | sidrolandia\n",
      "Processing Record 30 of Set 7 | clarence town\n",
      "Processing Record 31 of Set 7 | najran\n",
      "Processing Record 32 of Set 7 | namibe\n",
      "Processing Record 33 of Set 7 | ornskoldsvik\n",
      "Processing Record 34 of Set 7 | sitka\n",
      "Processing Record 35 of Set 7 | matara\n",
      "Processing Record 36 of Set 7 | bitung\n",
      "Processing Record 37 of Set 7 | pevek\n",
      "Processing Record 38 of Set 7 | gurupa\n",
      "Processing Record 39 of Set 7 | vinh\n",
      "Processing Record 40 of Set 7 | malyye derbety\n",
      "Processing Record 41 of Set 7 | sao borja\n",
      "Processing Record 42 of Set 7 | bandarbeyla\n",
      "Processing Record 43 of Set 7 | araouane\n",
      "Processing Record 44 of Set 7 | rocha\n",
      "Processing Record 45 of Set 7 | ringas\n",
      "Processing Record 46 of Set 7 | langsa\n",
      "Processing Record 47 of Set 7 | gigmoto\n",
      "Processing Record 48 of Set 7 | torrelavega\n",
      "Processing Record 49 of Set 7 | bathsheba\n",
      "Processing Record 0 of Set 8 | dauphin\n",
      "Processing Record 1 of Set 8 | belaya gora\n",
      "Processing Record 2 of Set 8 | emborion\n",
      "Processing Record 3 of Set 8 | pombas\n",
      "Processing Record 4 of Set 8 | rudnogorsk\n",
      "Processing Record 5 of Set 8 | labuhan\n",
      "Processing Record 6 of Set 8 | pervomayskoye\n",
      "Processing Record 7 of Set 8 | upernavik\n",
      "Processing Record 8 of Set 8 | shache\n",
      "Processing Record 9 of Set 8 | zhitikara\n",
      "City not found. Skipping...\n",
      "Processing Record 10 of Set 8 | pio ix\n",
      "Processing Record 11 of Set 8 | huzhou\n",
      "Processing Record 12 of Set 8 | kavaratti\n",
      "Processing Record 13 of Set 8 | champerico\n",
      "Processing Record 14 of Set 8 | hobyo\n",
      "Processing Record 15 of Set 8 | cap-chat\n",
      "Processing Record 16 of Set 8 | mittagong\n",
      "Processing Record 17 of Set 8 | alyangula\n",
      "Processing Record 18 of Set 8 | aqtobe\n",
      "Processing Record 19 of Set 8 | pagsangahan\n",
      "Processing Record 20 of Set 8 | madimba\n",
      "Processing Record 21 of Set 8 | portland\n",
      "Processing Record 22 of Set 8 | gejiu\n",
      "Processing Record 23 of Set 8 | jizan\n",
      "Processing Record 24 of Set 8 | cairns\n",
      "Processing Record 25 of Set 8 | necochea\n",
      "Processing Record 26 of Set 8 | umzimvubu\n",
      "City not found. Skipping...\n",
      "Processing Record 27 of Set 8 | kasongo-lunda\n",
      "Processing Record 28 of Set 8 | khandyga\n",
      "Processing Record 29 of Set 8 | sabinas hidalgo\n",
      "Processing Record 30 of Set 8 | guerrero negro\n",
      "Processing Record 31 of Set 8 | kamarion\n",
      "Processing Record 32 of Set 8 | corinto\n",
      "Processing Record 33 of Set 8 | kangaatsiaq\n",
      "Processing Record 34 of Set 8 | lowestoft\n",
      "Processing Record 35 of Set 8 | peniche\n",
      "Processing Record 36 of Set 8 | pulandian\n",
      "Processing Record 37 of Set 8 | bolobo\n",
      "Processing Record 38 of Set 8 | genhe\n",
      "Processing Record 39 of Set 8 | kabwe\n",
      "Processing Record 40 of Set 8 | trofors\n",
      "Processing Record 41 of Set 8 | zhigansk\n",
      "Processing Record 42 of Set 8 | talara\n",
      "Processing Record 43 of Set 8 | zheleznodorozhnyy\n",
      "Processing Record 44 of Set 8 | kruisfontein\n",
      "Processing Record 45 of Set 8 | coihaique\n",
      "Processing Record 46 of Set 8 | prachin buri\n",
      "Processing Record 47 of Set 8 | coahuayana\n",
      "Processing Record 48 of Set 8 | magadan\n",
      "Processing Record 49 of Set 8 | jiexiu\n",
      "Processing Record 0 of Set 9 | ucluelet\n",
      "Processing Record 1 of Set 9 | penzance\n",
      "Processing Record 2 of Set 9 | arraial do cabo\n",
      "Processing Record 3 of Set 9 | vesele\n",
      "Processing Record 4 of Set 9 | port hedland\n",
      "Processing Record 5 of Set 9 | balabac\n",
      "Processing Record 6 of Set 9 | hays\n",
      "Processing Record 7 of Set 9 | hammelburg\n",
      "Processing Record 8 of Set 9 | coquimbo\n",
      "Processing Record 9 of Set 9 | san juan\n",
      "Processing Record 10 of Set 9 | meulaboh\n",
      "Processing Record 11 of Set 9 | glazov\n",
      "Processing Record 12 of Set 9 | popondetta\n",
      "Processing Record 13 of Set 9 | cape elizabeth\n",
      "City not found. Skipping...\n",
      "Processing Record 14 of Set 9 | la asuncion\n",
      "Processing Record 15 of Set 9 | vila velha\n",
      "Processing Record 16 of Set 9 | bolshaya chernigovka\n",
      "City not found. Skipping...\n",
      "Processing Record 17 of Set 9 | lagunas\n",
      "Processing Record 18 of Set 9 | naze\n",
      "Processing Record 19 of Set 9 | teneguiban\n",
      "City not found. Skipping...\n",
      "Processing Record 20 of Set 9 | safford\n",
      "Processing Record 21 of Set 9 | kostomuksha\n",
      "Processing Record 22 of Set 9 | port shepstone\n",
      "Processing Record 23 of Set 9 | birao\n",
      "Processing Record 24 of Set 9 | taltal\n",
      "Processing Record 25 of Set 9 | velikie luki\n",
      "City not found. Skipping...\n",
      "Processing Record 26 of Set 9 | taoudenni\n",
      "Processing Record 27 of Set 9 | nur\n",
      "Processing Record 28 of Set 9 | batagay\n",
      "Processing Record 29 of Set 9 | puerto palomas\n",
      "Processing Record 30 of Set 9 | petropavlovsk-kamchatskiy\n",
      "Processing Record 31 of Set 9 | northam\n",
      "Processing Record 32 of Set 9 | rivera\n",
      "Processing Record 33 of Set 9 | morant bay\n",
      "Processing Record 34 of Set 9 | kragujevac\n",
      "Processing Record 35 of Set 9 | bollnas\n",
      "Processing Record 36 of Set 9 | axim\n",
      "Processing Record 37 of Set 9 | george town\n",
      "Processing Record 38 of Set 9 | norrtalje\n",
      "Processing Record 39 of Set 9 | sept-iles\n",
      "Processing Record 40 of Set 9 | grafenhainichen\n",
      "Processing Record 41 of Set 9 | plettenberg bay\n",
      "Processing Record 42 of Set 9 | beloha\n",
      "Processing Record 43 of Set 9 | arman\n",
      "Processing Record 44 of Set 9 | souillac\n",
      "Processing Record 45 of Set 9 | olafsvik\n",
      "Processing Record 46 of Set 9 | scottsburgh\n",
      "City not found. Skipping...\n",
      "Processing Record 47 of Set 9 | amga\n",
      "Processing Record 48 of Set 9 | tamale\n",
      "Processing Record 49 of Set 9 | guelengdeng\n",
      "City not found. Skipping...\n",
      "Processing Record 0 of Set 10 | portoferraio\n",
      "Processing Record 1 of Set 10 | kloulklubed\n",
      "Processing Record 2 of Set 10 | semnan\n",
      "Processing Record 3 of Set 10 | okhotsk\n",
      "Processing Record 4 of Set 10 | saleaula\n",
      "City not found. Skipping...\n",
      "Processing Record 5 of Set 10 | tiksi\n",
      "Processing Record 6 of Set 10 | crab hill\n",
      "City not found. Skipping...\n",
      "Processing Record 7 of Set 10 | saint anthony\n",
      "Processing Record 8 of Set 10 | strezhevoy\n",
      "Processing Record 9 of Set 10 | aitape\n",
      "Processing Record 10 of Set 10 | luganville\n",
      "Processing Record 11 of Set 10 | igrim\n",
      "Processing Record 12 of Set 10 | santiago de chuco\n",
      "Processing Record 13 of Set 10 | sioux lookout\n",
      "Processing Record 14 of Set 10 | uyar\n",
      "Processing Record 15 of Set 10 | manaus\n",
      "Processing Record 16 of Set 10 | alpena\n",
      "Processing Record 17 of Set 10 | mingguang\n",
      "Processing Record 18 of Set 10 | zell am see\n",
      "Processing Record 19 of Set 10 | lavrentiya\n",
      "Processing Record 20 of Set 10 | maneadero\n",
      "Processing Record 21 of Set 10 | grindavik\n",
      "Processing Record 22 of Set 10 | makakilo city\n",
      "Processing Record 23 of Set 10 | parrita\n",
      "Processing Record 24 of Set 10 | taki\n",
      "Processing Record 25 of Set 10 | stekolnyy\n",
      "City not found. Skipping...\n",
      "Processing Record 26 of Set 10 | samusu\n",
      "City not found. Skipping...\n",
      "Processing Record 27 of Set 10 | vestmannaeyjar\n",
      "Processing Record 28 of Set 10 | winnemucca\n",
      "Processing Record 29 of Set 10 | grand gaube\n",
      "Processing Record 30 of Set 10 | gouyave\n",
      "Processing Record 31 of Set 10 | touros\n",
      "Processing Record 32 of Set 10 | cap malheureux\n",
      "Processing Record 33 of Set 10 | balikpapan\n",
      "Processing Record 34 of Set 10 | jiaojiang\n",
      "Processing Record 35 of Set 10 | saijo\n",
      "Processing Record 36 of Set 10 | rawlins\n",
      "Processing Record 37 of Set 10 | felipe carrillo puerto\n",
      "Processing Record 38 of Set 10 | krasnyy chikoy\n",
      "Processing Record 39 of Set 10 | deer lake\n",
      "Processing Record 40 of Set 10 | gorno-chuyskiy\n",
      "City not found. Skipping...\n",
      "Processing Record 41 of Set 10 | oistins\n",
      "Processing Record 42 of Set 10 | naduvattam\n",
      "Processing Record 43 of Set 10 | chishan\n",
      "Processing Record 44 of Set 10 | lichuan\n",
      "Processing Record 45 of Set 10 | zhanatas\n",
      "City not found. Skipping...\n",
      "Processing Record 46 of Set 10 | sambava\n",
      "Processing Record 47 of Set 10 | kinanah\n",
      "City not found. Skipping...\n",
      "Processing Record 48 of Set 10 | tornio\n",
      "Processing Record 49 of Set 10 | mukhen\n",
      "Processing Record 0 of Set 11 | shakawe\n",
      "Processing Record 1 of Set 11 | berlevag\n",
      "Processing Record 2 of Set 11 | vila franca do campo\n",
      "Processing Record 3 of Set 11 | marrakesh\n",
      "Processing Record 4 of Set 11 | loreto\n",
      "Processing Record 5 of Set 11 | abu kamal\n",
      "Processing Record 6 of Set 11 | kahului\n",
      "Processing Record 7 of Set 11 | sistranda\n",
      "Processing Record 8 of Set 11 | japura\n",
      "Processing Record 9 of Set 11 | visby\n",
      "Processing Record 10 of Set 11 | eyl\n",
      "Processing Record 11 of Set 11 | patna\n",
      "Processing Record 12 of Set 11 | zhengjiatun\n",
      "Processing Record 13 of Set 11 | raton\n",
      "Processing Record 14 of Set 11 | laela\n",
      "Processing Record 15 of Set 11 | lichtenburg\n",
      "Processing Record 16 of Set 11 | vangaindrano\n",
      "Processing Record 17 of Set 11 | independence\n",
      "Processing Record 18 of Set 11 | richard toll\n",
      "City not found. Skipping...\n",
      "Processing Record 19 of Set 11 | port macquarie\n",
      "Processing Record 20 of Set 11 | smithers\n",
      "Processing Record 21 of Set 11 | fairbanks\n",
      "Processing Record 22 of Set 11 | chebsara\n",
      "Processing Record 23 of Set 11 | ketchenery\n",
      "City not found. Skipping...\n",
      "Processing Record 24 of Set 11 | bereda\n",
      "Processing Record 25 of Set 11 | vanimo\n",
      "Processing Record 26 of Set 11 | ulaangom\n",
      "Processing Record 27 of Set 11 | los llanos de aridane\n",
      "Processing Record 28 of Set 11 | isabela\n",
      "Processing Record 29 of Set 11 | suntar\n",
      "Processing Record 30 of Set 11 | santandrei\n",
      "Processing Record 31 of Set 11 | tumannyy\n",
      "City not found. Skipping...\n",
      "Processing Record 32 of Set 11 | mandurah\n",
      "Processing Record 33 of Set 11 | college\n",
      "Processing Record 34 of Set 11 | cabedelo\n",
      "Processing Record 35 of Set 11 | puerto quijarro\n",
      "Processing Record 36 of Set 11 | mizpe ramon\n",
      "City not found. Skipping...\n",
      "Processing Record 37 of Set 11 | talesh\n",
      "City not found. Skipping...\n",
      "Processing Record 38 of Set 11 | westpunt\n",
      "City not found. Skipping...\n",
      "Processing Record 39 of Set 11 | soe\n",
      "Processing Record 40 of Set 11 | sucua\n",
      "Processing Record 41 of Set 11 | acaponeta\n",
      "Processing Record 42 of Set 11 | bababe\n",
      "City not found. Skipping...\n",
      "Processing Record 43 of Set 11 | pitimbu\n",
      "Processing Record 44 of Set 11 | carndonagh\n",
      "Processing Record 45 of Set 11 | gushikawa\n",
      "Processing Record 46 of Set 11 | namatanai\n",
      "Processing Record 47 of Set 11 | talnakh\n",
      "Processing Record 48 of Set 11 | lodja\n",
      "Processing Record 49 of Set 11 | murray bridge\n",
      "Processing Record 0 of Set 12 | surt\n",
      "Processing Record 1 of Set 12 | ola\n",
      "Processing Record 2 of Set 12 | slavutych\n",
      "Processing Record 3 of Set 12 | naron\n",
      "Processing Record 4 of Set 12 | banamba\n",
      "Processing Record 5 of Set 12 | tahta\n",
      "Processing Record 6 of Set 12 | rio grande\n",
      "Processing Record 7 of Set 12 | weihe\n",
      "Processing Record 8 of Set 12 | kapoeta\n",
      "Processing Record 9 of Set 12 | singaraja\n",
      "Processing Record 10 of Set 12 | vardo\n",
      "Processing Record 11 of Set 12 | bintulu\n",
      "Processing Record 12 of Set 12 | fevralsk\n",
      "City not found. Skipping...\n",
      "Processing Record 13 of Set 12 | sembakung\n",
      "Processing Record 14 of Set 12 | armacao dos buzios\n",
      "City not found. Skipping...\n",
      "Processing Record 15 of Set 12 | ballina\n",
      "Processing Record 16 of Set 12 | ust-kamchatsk\n",
      "City not found. Skipping...\n",
      "Processing Record 17 of Set 12 | saryshagan\n",
      "City not found. Skipping...\n",
      "Processing Record 18 of Set 12 | mawlaik\n",
      "Processing Record 19 of Set 12 | san ignacio\n",
      "Processing Record 20 of Set 12 | ugoofaaru\n",
      "Processing Record 21 of Set 12 | conde\n",
      "Processing Record 22 of Set 12 | marcona\n",
      "City not found. Skipping...\n",
      "Processing Record 23 of Set 12 | bahia blanca\n",
      "Processing Record 24 of Set 12 | poum\n",
      "Processing Record 25 of Set 12 | rio branco\n",
      "Processing Record 26 of Set 12 | mareeba\n",
      "Processing Record 27 of Set 12 | ukiah\n",
      "Processing Record 28 of Set 12 | ahipara\n",
      "Processing Record 29 of Set 12 | yichang\n",
      "Processing Record 30 of Set 12 | ambilobe\n",
      "Processing Record 31 of Set 12 | costinesti\n",
      "Processing Record 32 of Set 12 | penarroya-pueblonuevo\n",
      "Processing Record 33 of Set 12 | prieska\n",
      "Processing Record 34 of Set 12 | juxtlahuaca\n",
      "Processing Record 35 of Set 12 | quatre cocos\n",
      "Processing Record 36 of Set 12 | kumluca\n",
      "Processing Record 37 of Set 12 | thunder bay\n",
      "Processing Record 38 of Set 12 | pafos\n",
      "Processing Record 39 of Set 12 | aden\n",
      "Processing Record 40 of Set 12 | padang\n",
      "Processing Record 41 of Set 12 | turayf\n",
      "-----------------------------\n",
      "Data Retrieval Complete      \n",
      "-----------------------------\n"
     ]
    }
   ],
   "source": [
    "# Set the API base URL\n",
    "url = \"http://api.openweathermap.org/data/2.5/weather?\"\n",
    "units =\"imperial\"\n",
    "\n",
    "# Define an empty list to fetch the weather data for each city\n",
    "city_data = []\n",
    "\n",
    "# Print to logger\n",
    "print(\"Beginning Data Retrieval     \")\n",
    "print(\"-----------------------------\")\n",
    "\n",
    "# Create counters\n",
    "record_count = 1\n",
    "set_count = 1\n",
    "\n",
    "# Loop through all the cities in our list to fetch weather data\n",
    "for i, city in enumerate(cities):\n",
    "        \n",
    "    # Group cities in sets of 50 for logging purposes\n",
    "    if (i % 50 == 0 and i >= 50):\n",
    "        set_count += 1\n",
    "        record_count = 0\n",
    "\n",
    "    # Create endpoint URL with each city\n",
    "    city_url = f\"{url}appid={weather_api_key}&q={city}&units={units}\"\n",
    "    \n",
    "    # Log the url, record, and set numbers\n",
    "    print(\"Processing Record %s of Set %s | %s\" % (record_count, set_count, city))\n",
    "\n",
    "    # Add 1 to the record count\n",
    "    record_count += 1\n",
    "\n",
    "    # Run an API request for each of the cities\n",
    "    try:\n",
    "        # Parse the JSON and retrieve data\n",
    "        city_weather_df = requests.get(city_url).json()\n",
    "        city_weather_df\n",
    "\n",
    "        # Parse out latitude, longitude, max temp, humidity, cloudiness, wind speed, country, and date\n",
    "        city_lat = city_weather_df['coord'][\"lat\"]\n",
    "        city_lng = city_weather_df['coord'][\"lon\"]\n",
    "        city_max_temp = city_weather_df[\"main\"][\"temp_max\"]\n",
    "        city_humidity = city_weather_df[\"main\"][\"humidity\"]\n",
    "        city_clouds = city_weather_df[\"clouds\"][\"all\"]\n",
    "        city_wind = city_weather_df[\"wind\"][\"speed\"]\n",
    "        city_country = city_weather_df[\"sys\"][\"country\"]\n",
    "        city_date = city_weather_df[\"dt\"]\n",
    "\n",
    "        # Append the City information into city_data list\n",
    "        city_data.append({\"City\": city, \n",
    "                          \"Lat\": city_lat, \n",
    "                          \"Lng\": city_lng, \n",
    "                          \"Max Temp\": city_max_temp,\n",
    "                          \"Humidity\": city_humidity,\n",
    "                          \"Cloudiness\": city_clouds,\n",
    "                          \"Wind Speed\": city_wind,\n",
    "                          \"Country\": city_country,\n",
    "                          \"Date\": city_date})\n",
    "\n",
    "    # If an error is experienced, skip the city\n",
    "    except:\n",
    "        print(\"City not found. Skipping...\")\n",
    "        pass\n",
    "              \n",
    "# Indicate that Data Loading is complete \n",
    "print(\"-----------------------------\")\n",
    "print(\"Data Retrieval Complete      \")\n",
    "print(\"-----------------------------\")"
   ]
  },
  {
   "cell_type": "code",
   "execution_count": 8,
   "metadata": {},
   "outputs": [
    {
     "data": {
      "text/plain": [
       "City          532\n",
       "Lat           532\n",
       "Lng           532\n",
       "Max Temp      532\n",
       "Humidity      532\n",
       "Cloudiness    532\n",
       "Wind Speed    532\n",
       "Country       532\n",
       "Date          532\n",
       "dtype: int64"
      ]
     },
     "execution_count": 8,
     "metadata": {},
     "output_type": "execute_result"
    }
   ],
   "source": [
    "# Convert the cities weather data into a Pandas DataFrame\n",
    "city_data_df = pd.DataFrame(city_data)\n",
    "\n",
    "# Show Record Count\n",
    "city_data_df.count()"
   ]
  },
  {
   "cell_type": "code",
   "execution_count": 9,
   "metadata": {},
   "outputs": [
    {
     "data": {
      "text/html": [
       "<div>\n",
       "<style scoped>\n",
       "    .dataframe tbody tr th:only-of-type {\n",
       "        vertical-align: middle;\n",
       "    }\n",
       "\n",
       "    .dataframe tbody tr th {\n",
       "        vertical-align: top;\n",
       "    }\n",
       "\n",
       "    .dataframe thead th {\n",
       "        text-align: right;\n",
       "    }\n",
       "</style>\n",
       "<table border=\"1\" class=\"dataframe\">\n",
       "  <thead>\n",
       "    <tr style=\"text-align: right;\">\n",
       "      <th></th>\n",
       "      <th>City</th>\n",
       "      <th>Lat</th>\n",
       "      <th>Lng</th>\n",
       "      <th>Max Temp</th>\n",
       "      <th>Humidity</th>\n",
       "      <th>Cloudiness</th>\n",
       "      <th>Wind Speed</th>\n",
       "      <th>Country</th>\n",
       "      <th>Date</th>\n",
       "    </tr>\n",
       "  </thead>\n",
       "  <tbody>\n",
       "    <tr>\n",
       "      <th>0</th>\n",
       "      <td>busselton</td>\n",
       "      <td>-33.6500</td>\n",
       "      <td>115.3333</td>\n",
       "      <td>59.97</td>\n",
       "      <td>89</td>\n",
       "      <td>9</td>\n",
       "      <td>3.22</td>\n",
       "      <td>AU</td>\n",
       "      <td>1676585585</td>\n",
       "    </tr>\n",
       "    <tr>\n",
       "      <th>1</th>\n",
       "      <td>straumen</td>\n",
       "      <td>63.8709</td>\n",
       "      <td>11.2999</td>\n",
       "      <td>32.00</td>\n",
       "      <td>88</td>\n",
       "      <td>100</td>\n",
       "      <td>6.08</td>\n",
       "      <td>NO</td>\n",
       "      <td>1676585683</td>\n",
       "    </tr>\n",
       "    <tr>\n",
       "      <th>2</th>\n",
       "      <td>tokur</td>\n",
       "      <td>53.1333</td>\n",
       "      <td>132.9000</td>\n",
       "      <td>-26.23</td>\n",
       "      <td>100</td>\n",
       "      <td>97</td>\n",
       "      <td>3.18</td>\n",
       "      <td>RU</td>\n",
       "      <td>1676585684</td>\n",
       "    </tr>\n",
       "    <tr>\n",
       "      <th>3</th>\n",
       "      <td>saint george</td>\n",
       "      <td>37.1041</td>\n",
       "      <td>-113.5841</td>\n",
       "      <td>44.26</td>\n",
       "      <td>27</td>\n",
       "      <td>0</td>\n",
       "      <td>4.00</td>\n",
       "      <td>US</td>\n",
       "      <td>1676585438</td>\n",
       "    </tr>\n",
       "    <tr>\n",
       "      <th>4</th>\n",
       "      <td>yellowknife</td>\n",
       "      <td>62.4560</td>\n",
       "      <td>-114.3525</td>\n",
       "      <td>-4.43</td>\n",
       "      <td>95</td>\n",
       "      <td>100</td>\n",
       "      <td>8.68</td>\n",
       "      <td>CA</td>\n",
       "      <td>1676585684</td>\n",
       "    </tr>\n",
       "  </tbody>\n",
       "</table>\n",
       "</div>"
      ],
      "text/plain": [
       "           City      Lat       Lng  Max Temp  Humidity  Cloudiness  \\\n",
       "0     busselton -33.6500  115.3333     59.97        89           9   \n",
       "1      straumen  63.8709   11.2999     32.00        88         100   \n",
       "2         tokur  53.1333  132.9000    -26.23       100          97   \n",
       "3  saint george  37.1041 -113.5841     44.26        27           0   \n",
       "4   yellowknife  62.4560 -114.3525     -4.43        95         100   \n",
       "\n",
       "   Wind Speed Country        Date  \n",
       "0        3.22      AU  1676585585  \n",
       "1        6.08      NO  1676585683  \n",
       "2        3.18      RU  1676585684  \n",
       "3        4.00      US  1676585438  \n",
       "4        8.68      CA  1676585684  "
      ]
     },
     "execution_count": 9,
     "metadata": {},
     "output_type": "execute_result"
    }
   ],
   "source": [
    "# Display sample data\n",
    "city_data_df.head()"
   ]
  },
  {
   "cell_type": "code",
   "execution_count": 10,
   "metadata": {},
   "outputs": [],
   "source": [
    "# Export the City_Data into a csv\n",
    "city_data_df.to_csv(\"../solution/cities1.csv\", index_label=\"City_ID\")\n"
   ]
  },
  {
   "cell_type": "code",
   "execution_count": 11,
   "metadata": {},
   "outputs": [
    {
     "data": {
      "text/html": [
       "<div>\n",
       "<style scoped>\n",
       "    .dataframe tbody tr th:only-of-type {\n",
       "        vertical-align: middle;\n",
       "    }\n",
       "\n",
       "    .dataframe tbody tr th {\n",
       "        vertical-align: top;\n",
       "    }\n",
       "\n",
       "    .dataframe thead th {\n",
       "        text-align: right;\n",
       "    }\n",
       "</style>\n",
       "<table border=\"1\" class=\"dataframe\">\n",
       "  <thead>\n",
       "    <tr style=\"text-align: right;\">\n",
       "      <th></th>\n",
       "      <th>City</th>\n",
       "      <th>Lat</th>\n",
       "      <th>Lng</th>\n",
       "      <th>Max Temp</th>\n",
       "      <th>Humidity</th>\n",
       "      <th>Cloudiness</th>\n",
       "      <th>Wind Speed</th>\n",
       "      <th>Country</th>\n",
       "      <th>Date</th>\n",
       "    </tr>\n",
       "  </thead>\n",
       "  <tbody>\n",
       "    <tr>\n",
       "      <th>0</th>\n",
       "      <td>busselton</td>\n",
       "      <td>-33.6500</td>\n",
       "      <td>115.3333</td>\n",
       "      <td>59.97</td>\n",
       "      <td>89</td>\n",
       "      <td>9</td>\n",
       "      <td>3.22</td>\n",
       "      <td>AU</td>\n",
       "      <td>1676585585</td>\n",
       "    </tr>\n",
       "    <tr>\n",
       "      <th>1</th>\n",
       "      <td>straumen</td>\n",
       "      <td>63.8709</td>\n",
       "      <td>11.2999</td>\n",
       "      <td>32.00</td>\n",
       "      <td>88</td>\n",
       "      <td>100</td>\n",
       "      <td>6.08</td>\n",
       "      <td>NO</td>\n",
       "      <td>1676585683</td>\n",
       "    </tr>\n",
       "    <tr>\n",
       "      <th>2</th>\n",
       "      <td>tokur</td>\n",
       "      <td>53.1333</td>\n",
       "      <td>132.9000</td>\n",
       "      <td>-26.23</td>\n",
       "      <td>100</td>\n",
       "      <td>97</td>\n",
       "      <td>3.18</td>\n",
       "      <td>RU</td>\n",
       "      <td>1676585684</td>\n",
       "    </tr>\n",
       "    <tr>\n",
       "      <th>3</th>\n",
       "      <td>saint george</td>\n",
       "      <td>37.1041</td>\n",
       "      <td>-113.5841</td>\n",
       "      <td>44.26</td>\n",
       "      <td>27</td>\n",
       "      <td>0</td>\n",
       "      <td>4.00</td>\n",
       "      <td>US</td>\n",
       "      <td>1676585438</td>\n",
       "    </tr>\n",
       "    <tr>\n",
       "      <th>4</th>\n",
       "      <td>yellowknife</td>\n",
       "      <td>62.4560</td>\n",
       "      <td>-114.3525</td>\n",
       "      <td>-4.43</td>\n",
       "      <td>95</td>\n",
       "      <td>100</td>\n",
       "      <td>8.68</td>\n",
       "      <td>CA</td>\n",
       "      <td>1676585684</td>\n",
       "    </tr>\n",
       "  </tbody>\n",
       "</table>\n",
       "</div>"
      ],
      "text/plain": [
       "           City      Lat       Lng  Max Temp  Humidity  Cloudiness  \\\n",
       "0     busselton -33.6500  115.3333     59.97        89           9   \n",
       "1      straumen  63.8709   11.2999     32.00        88         100   \n",
       "2         tokur  53.1333  132.9000    -26.23       100          97   \n",
       "3  saint george  37.1041 -113.5841     44.26        27           0   \n",
       "4   yellowknife  62.4560 -114.3525     -4.43        95         100   \n",
       "\n",
       "   Wind Speed Country        Date  \n",
       "0        3.22      AU  1676585585  \n",
       "1        6.08      NO  1676585683  \n",
       "2        3.18      RU  1676585684  \n",
       "3        4.00      US  1676585438  \n",
       "4        8.68      CA  1676585684  "
      ]
     },
     "execution_count": 11,
     "metadata": {},
     "output_type": "execute_result"
    }
   ],
   "source": [
    "# Read saved data\n",
    "city_data_df.to_csv(\"../solution/cities1.csv\", index_label=\"City_ID\")\n",
    "\n",
    "# Display sample data\n",
    "city_data_df.head()"
   ]
  },
  {
   "cell_type": "markdown",
   "metadata": {},
   "source": [
    "### Create the Scatter Plots Requested\n",
    "\n",
    "#### Latitude Vs. Temperature"
   ]
  },
  {
   "cell_type": "code",
   "execution_count": 18,
   "metadata": {
    "tags": []
   },
   "outputs": [
    {
     "data": {
      "image/png": "[encoded data removed]",
      "text/plain": [
       "<Figure size 432x288 with 1 Axes>"
      ]
     },
     "metadata": {
      "needs_background": "light"
     },
     "output_type": "display_data"
    }
   ],
   "source": [
    "# Build scatter plot for latitude vs. temperature\n",
    "plt.scatter(city_data_df[\"Lat\"],city_data_df[\"Max Temp\"],edgecolors=\"red\")\n",
    "\n",
    "\n",
    "# Incorporate the other graph properties\n",
    "plt.grid()\n",
    "plt.xlabel(\"Latitude\")\n",
    "plt.ylabel(\"Max Temp(C)\")\n",
    "plt.title(\"Latitude Vs Max Temperature(2023-2-16)\")\n",
    "\n",
    "# Save the figure\n",
    "plt.savefig(\"../solution/Fig1.png\")\n",
    "\n",
    "# Show plot\n",
    "plt.show()"
   ]
  },
  {
   "cell_type": "markdown",
   "metadata": {},
   "source": [
    "#### Latitude Vs. Humidity"
   ]
  },
  {
   "cell_type": "code",
   "execution_count": 19,
   "metadata": {},
   "outputs": [
    {
     "data": {
      "image/png": "[encoded data removed]",
      "text/plain": [
       "<Figure size 432x288 with 1 Axes>"
      ]
     },
     "metadata": {
      "needs_background": "light"
     },
     "output_type": "display_data"
    }
   ],
   "source": [
    "# Build the scatter plots for latitude vs. humidity\n",
    "plt.scatter(city_data_df[\"Lat\"],city_data_df[\"Humidity\"],color=\"Red\",edgecolors=\"blue\")\n",
    "\n",
    "\n",
    "# Incorporate the other graph properties\n",
    "plt.grid()\n",
    "plt.xlabel(\"Latitude\")\n",
    "plt.ylabel(\"Humidity\")\n",
    "plt.title(\"Latitude vs Humidity(2023-2-16)\")\n",
    "# Save the figure\n",
    "plt.savefig(\"../solution/Fig2.png\")\n",
    "\n",
    "# Show plot\n",
    "plt.show()"
   ]
  },
  {
   "cell_type": "markdown",
   "metadata": {},
   "source": [
    "#### Latitude Vs. Cloudiness"
   ]
  },
  {
   "cell_type": "code",
   "execution_count": 20,
   "metadata": {},
   "outputs": [
    {
     "data": {
      "image/png": "[encoded data removed]",
      "text/plain": [
       "<Figure size 432x288 with 1 Axes>"
      ]
     },
     "metadata": {
      "needs_background": "light"
     },
     "output_type": "display_data"
    }
   ],
   "source": [
    "# Build the scatter plots for latitude vs. cloudiness\n",
    "plt.scatter(city_data_df[\"Lat\"],city_data_df[\"Cloudiness\"],color=\"Red\",edgecolors=\"black\")\n",
    "\n",
    "# Incorporate the other graph properties\n",
    "plt.grid()\n",
    "plt.xlabel(\"Latitude\")\n",
    "plt.ylabel(\"Cloudiness\")\n",
    "plt.title(\"Latitude vs Cloudiness(2023-2-16)\")\n",
    "\n",
    "# Save the figure\n",
    "plt.savefig(\"../solution/Fig3.png\")\n",
    "\n",
    "# Show plot\n",
    "plt.show()"
   ]
  },
  {
   "cell_type": "markdown",
   "metadata": {},
   "source": [
    "#### Latitude vs. Wind Speed Plot"
   ]
  },
  {
   "cell_type": "code",
   "execution_count": 21,
   "metadata": {},
   "outputs": [
    {
     "data": {
      "image/png": "[encoded data removed]",
      "text/plain": [
       "<Figure size 432x288 with 1 Axes>"
      ]
     },
     "metadata": {
      "needs_background": "light"
     },
     "output_type": "display_data"
    }
   ],
   "source": [
    "# Build the scatter plots for latitude vs. wind speed\n",
    "plt.scatter(city_data_df[\"Lat\"],city_data_df[\"Wind Speed\"],color=\"green\",edgecolors=\"black\")\n",
    "\n",
    "\n",
    "# Incorporate the other graph properties\n",
    "plt.grid()\n",
    "plt.xlabel(\"Latitude\")\n",
    "plt.ylabel(\"Wind Speed\")\n",
    "plt.title(\"Latitude vs Wind Speed(2023-2-16)\")\n",
    "\n",
    "# Save the figure\n",
    "plt.savefig(\"../solution/Fig4.png\")\n",
    "\n",
    "# Show plot\n",
    "plt.show()"
   ]
  },
  {
   "cell_type": "markdown",
   "metadata": {},
   "source": [
    "---\n",
    "\n",
    "## Requirement 2: Compute Linear Regression for Each Relationship\n"
   ]
  },
  {
   "cell_type": "code",
   "execution_count": 25,
   "metadata": {},
   "outputs": [],
   "source": [
    "# Define a function to create Linear Regression plots\n",
    "def linearRegression(x_values,y_values,regEQplotX,regEQplotY,y_label):\n",
    "    (slope, intercept, rvalue, pvalue, stderr) = linregress(x_values, y_values)\n",
    "    regress_values = x_values * slope + intercept\n",
    "    line_eq = \"y = \" + str(round(slope,2)) + \"x + \" + str(round(intercept,2))\n",
    "    plt.scatter(x_values,y_values)\n",
    "    plt.plot(x_values,regress_values,\"r-\")\n",
    "    print(f'The r-square is {rvalue}')\n",
    "    print(line_eq)\n",
    "    plt.annotate(line_eq,(regEQplotX,regEQplotY),fontsize=15,color=\"red\")\n",
    "    plt.xlabel('Latitude')\n",
    "    plt.ylabel(f'{y_label}')\n",
    "    plt.grid()"
   ]
  },
  {
   "cell_type": "code",
   "execution_count": 28,
   "metadata": {},
   "outputs": [
    {
     "data": {
      "text/html": [
       "<div>\n",
       "<style scoped>\n",
       "    .dataframe tbody tr th:only-of-type {\n",
       "        vertical-align: middle;\n",
       "    }\n",
       "\n",
       "    .dataframe tbody tr th {\n",
       "        vertical-align: top;\n",
       "    }\n",
       "\n",
       "    .dataframe thead th {\n",
       "        text-align: right;\n",
       "    }\n",
       "</style>\n",
       "<table border=\"1\" class=\"dataframe\">\n",
       "  <thead>\n",
       "    <tr style=\"text-align: right;\">\n",
       "      <th></th>\n",
       "      <th>City</th>\n",
       "      <th>Lat</th>\n",
       "      <th>Lng</th>\n",
       "      <th>Max Temp</th>\n",
       "      <th>Humidity</th>\n",
       "      <th>Cloudiness</th>\n",
       "      <th>Wind Speed</th>\n",
       "      <th>Country</th>\n",
       "      <th>Date</th>\n",
       "    </tr>\n",
       "  </thead>\n",
       "  <tbody>\n",
       "    <tr>\n",
       "      <th>0</th>\n",
       "      <td>busselton</td>\n",
       "      <td>-33.6500</td>\n",
       "      <td>115.3333</td>\n",
       "      <td>59.97</td>\n",
       "      <td>89</td>\n",
       "      <td>9</td>\n",
       "      <td>3.22</td>\n",
       "      <td>AU</td>\n",
       "      <td>1676585585</td>\n",
       "    </tr>\n",
       "    <tr>\n",
       "      <th>5</th>\n",
       "      <td>mataura</td>\n",
       "      <td>-46.1927</td>\n",
       "      <td>168.8643</td>\n",
       "      <td>58.48</td>\n",
       "      <td>67</td>\n",
       "      <td>99</td>\n",
       "      <td>3.44</td>\n",
       "      <td>NZ</td>\n",
       "      <td>1676585684</td>\n",
       "    </tr>\n",
       "    <tr>\n",
       "      <th>6</th>\n",
       "      <td>ushuaia</td>\n",
       "      <td>-54.8000</td>\n",
       "      <td>-68.3000</td>\n",
       "      <td>47.86</td>\n",
       "      <td>57</td>\n",
       "      <td>0</td>\n",
       "      <td>11.50</td>\n",
       "      <td>AR</td>\n",
       "      <td>1676585685</td>\n",
       "    </tr>\n",
       "    <tr>\n",
       "      <th>7</th>\n",
       "      <td>castro</td>\n",
       "      <td>-24.7911</td>\n",
       "      <td>-50.0119</td>\n",
       "      <td>65.82</td>\n",
       "      <td>97</td>\n",
       "      <td>100</td>\n",
       "      <td>14.65</td>\n",
       "      <td>BR</td>\n",
       "      <td>1676585685</td>\n",
       "    </tr>\n",
       "    <tr>\n",
       "      <th>8</th>\n",
       "      <td>bredasdorp</td>\n",
       "      <td>-34.5322</td>\n",
       "      <td>20.0403</td>\n",
       "      <td>67.73</td>\n",
       "      <td>81</td>\n",
       "      <td>100</td>\n",
       "      <td>16.87</td>\n",
       "      <td>ZA</td>\n",
       "      <td>1676585686</td>\n",
       "    </tr>\n",
       "  </tbody>\n",
       "</table>\n",
       "</div>"
      ],
      "text/plain": [
       "         City      Lat       Lng  Max Temp  Humidity  Cloudiness  Wind Speed  \\\n",
       "0   busselton -33.6500  115.3333     59.97        89           9        3.22   \n",
       "5     mataura -46.1927  168.8643     58.48        67          99        3.44   \n",
       "6     ushuaia -54.8000  -68.3000     47.86        57           0       11.50   \n",
       "7      castro -24.7911  -50.0119     65.82        97         100       14.65   \n",
       "8  bredasdorp -34.5322   20.0403     67.73        81         100       16.87   \n",
       "\n",
       "  Country        Date  \n",
       "0      AU  1676585585  \n",
       "5      NZ  1676585684  \n",
       "6      AR  1676585685  \n",
       "7      BR  1676585685  \n",
       "8      ZA  1676585686  "
      ]
     },
     "execution_count": 28,
     "metadata": {},
     "output_type": "execute_result"
    }
   ],
   "source": [
    "# Create a DataFrame with the Northern Hemisphere data (Latitude >= 0)\n",
    "northern_hemi_df =city_data_df.loc[city_data_df[\"Lat\"] < 0]\n",
    "\n",
    "# Display sample data\n",
    "northern_hemi_df.head()"
   ]
  },
  {
   "cell_type": "code",
   "execution_count": 27,
   "metadata": {},
   "outputs": [
    {
     "data": {
      "text/html": [
       "<div>\n",
       "<style scoped>\n",
       "    .dataframe tbody tr th:only-of-type {\n",
       "        vertical-align: middle;\n",
       "    }\n",
       "\n",
       "    .dataframe tbody tr th {\n",
       "        vertical-align: top;\n",
       "    }\n",
       "\n",
       "    .dataframe thead th {\n",
       "        text-align: right;\n",
       "    }\n",
       "</style>\n",
       "<table border=\"1\" class=\"dataframe\">\n",
       "  <thead>\n",
       "    <tr style=\"text-align: right;\">\n",
       "      <th></th>\n",
       "      <th>City</th>\n",
       "      <th>Lat</th>\n",
       "      <th>Lng</th>\n",
       "      <th>Max Temp</th>\n",
       "      <th>Humidity</th>\n",
       "      <th>Cloudiness</th>\n",
       "      <th>Wind Speed</th>\n",
       "      <th>Country</th>\n",
       "      <th>Date</th>\n",
       "    </tr>\n",
       "  </thead>\n",
       "  <tbody>\n",
       "    <tr>\n",
       "      <th>0</th>\n",
       "      <td>busselton</td>\n",
       "      <td>-33.6500</td>\n",
       "      <td>115.3333</td>\n",
       "      <td>59.97</td>\n",
       "      <td>89</td>\n",
       "      <td>9</td>\n",
       "      <td>3.22</td>\n",
       "      <td>AU</td>\n",
       "      <td>1676585585</td>\n",
       "    </tr>\n",
       "    <tr>\n",
       "      <th>5</th>\n",
       "      <td>mataura</td>\n",
       "      <td>-46.1927</td>\n",
       "      <td>168.8643</td>\n",
       "      <td>58.48</td>\n",
       "      <td>67</td>\n",
       "      <td>99</td>\n",
       "      <td>3.44</td>\n",
       "      <td>NZ</td>\n",
       "      <td>1676585684</td>\n",
       "    </tr>\n",
       "    <tr>\n",
       "      <th>6</th>\n",
       "      <td>ushuaia</td>\n",
       "      <td>-54.8000</td>\n",
       "      <td>-68.3000</td>\n",
       "      <td>47.86</td>\n",
       "      <td>57</td>\n",
       "      <td>0</td>\n",
       "      <td>11.50</td>\n",
       "      <td>AR</td>\n",
       "      <td>1676585685</td>\n",
       "    </tr>\n",
       "    <tr>\n",
       "      <th>7</th>\n",
       "      <td>castro</td>\n",
       "      <td>-24.7911</td>\n",
       "      <td>-50.0119</td>\n",
       "      <td>65.82</td>\n",
       "      <td>97</td>\n",
       "      <td>100</td>\n",
       "      <td>14.65</td>\n",
       "      <td>BR</td>\n",
       "      <td>1676585685</td>\n",
       "    </tr>\n",
       "    <tr>\n",
       "      <th>8</th>\n",
       "      <td>bredasdorp</td>\n",
       "      <td>-34.5322</td>\n",
       "      <td>20.0403</td>\n",
       "      <td>67.73</td>\n",
       "      <td>81</td>\n",
       "      <td>100</td>\n",
       "      <td>16.87</td>\n",
       "      <td>ZA</td>\n",
       "      <td>1676585686</td>\n",
       "    </tr>\n",
       "  </tbody>\n",
       "</table>\n",
       "</div>"
      ],
      "text/plain": [
       "         City      Lat       Lng  Max Temp  Humidity  Cloudiness  Wind Speed  \\\n",
       "0   busselton -33.6500  115.3333     59.97        89           9        3.22   \n",
       "5     mataura -46.1927  168.8643     58.48        67          99        3.44   \n",
       "6     ushuaia -54.8000  -68.3000     47.86        57           0       11.50   \n",
       "7      castro -24.7911  -50.0119     65.82        97         100       14.65   \n",
       "8  bredasdorp -34.5322   20.0403     67.73        81         100       16.87   \n",
       "\n",
       "  Country        Date  \n",
       "0      AU  1676585585  \n",
       "5      NZ  1676585684  \n",
       "6      AR  1676585685  \n",
       "7      BR  1676585685  \n",
       "8      ZA  1676585686  "
      ]
     },
     "execution_count": 27,
     "metadata": {},
     "output_type": "execute_result"
    }
   ],
   "source": [
    "# Create a DataFrame with the Southern Hemisphere data (Latitude < 0)\n",
    "southern_hemi_df =city_data_df.loc[city_data_df[\"Lat\"] < 0]\n",
    "\n",
    "# Display sample data\n",
    "southern_hemi_df.head()"
   ]
  },
  {
   "cell_type": "markdown",
   "metadata": {},
   "source": [
    "###  Temperature vs. Latitude Linear Regression Plot"
   ]
  },
  {
   "cell_type": "code",
   "execution_count": 29,
   "metadata": {},
   "outputs": [
    {
     "name": "stdout",
     "output_type": "stream",
     "text": [
      "r value is 0.6062280165429625\n"
     ]
    },
    {
     "data": {
      "image/png": "[encoded data removed]",
      "text/plain": [
       "<Figure size 432x288 with 1 Axes>"
      ]
     },
     "metadata": {
      "needs_background": "light"
     },
     "output_type": "display_data"
    }
   ],
   "source": [
    "# Linear regression on Northern Hemisphere\n",
    "linregres(northern_hemi_df[\"Lat\"], northern_hemi_df[\"Max Temp\"],\"Temperature\",\"Latitude\")\n"
   ]
  },
  {
   "cell_type": "code",
   "execution_count": 30,
   "metadata": {},
   "outputs": [
    {
     "name": "stdout",
     "output_type": "stream",
     "text": [
      "r value is 0.6062280165429625\n"
     ]
    },
    {
     "data": {
      "image/png": "[encoded data removed]",
      "text/plain": [
       "<Figure size 432x288 with 1 Axes>"
      ]
     },
     "metadata": {
      "needs_background": "light"
     },
     "output_type": "display_data"
    }
   ],
   "source": [
    "# Linear regression on Southern Hemisphere\n",
    "linregres(southern_hemi_df[\"Lat\"],southern_hemi_df[\"Max Temp\"],\"Temperature\",\"Latitude\")\n"
   ]
  },
  {
   "cell_type": "markdown",
   "metadata": {},
   "source": [
    "**Discussion about the linear relationship:** YOUR RESPONSE HERE"
   ]
  },
  {
   "cell_type": "markdown",
   "metadata": {},
   "source": [
    "### Humidity vs. Latitude Linear Regression Plot"
   ]
  },
  {
   "cell_type": "code",
   "execution_count": 31,
   "metadata": {},
   "outputs": [
    {
     "name": "stdout",
     "output_type": "stream",
     "text": [
      "r value is 0.44550368837255605\n"
     ]
    },
    {
     "data": {
      "image/png": "[encoded data removed]",
      "text/plain": [
       "<Figure size 432x288 with 1 Axes>"
      ]
     },
     "metadata": {
      "needs_background": "light"
     },
     "output_type": "display_data"
    }
   ],
   "source": [
    "# Northern Hemisphere\n",
    "linregres(northern_hemi_df[\"Lat\"], northern_hemi_df[\"Humidity\"],\"Latitude\",\"Humidity\")\n"
   ]
  },
  {
   "cell_type": "code",
   "execution_count": 32,
   "metadata": {},
   "outputs": [
    {
     "name": "stdout",
     "output_type": "stream",
     "text": [
      "r value is 0.44550368837255605\n"
     ]
    },
    {
     "data": {
      "image/png": "[encoded data removed]",
      "text/plain": [
       "<Figure size 432x288 with 1 Axes>"
      ]
     },
     "metadata": {
      "needs_background": "light"
     },
     "output_type": "display_data"
    }
   ],
   "source": [
    "# Southern Hemisphere\n",
    "linregres(southern_hemi_df[\"Lat\"],southern_hemi_df[\"Humidity\"],\"Latitude\",\"Humidity\")\n"
   ]
  },
  {
   "cell_type": "markdown",
   "metadata": {},
   "source": [
    "**Discussion about the linear relationship:** YOUR RESPONSE HERE"
   ]
  },
  {
   "cell_type": "markdown",
   "metadata": {},
   "source": [
    "### Cloudiness vs. Latitude Linear Regression Plot"
   ]
  },
  {
   "cell_type": "code",
   "execution_count": 33,
   "metadata": {},
   "outputs": [
    {
     "name": "stdout",
     "output_type": "stream",
     "text": [
      "r value is 0.2696186012490216\n"
     ]
    },
    {
     "data": {
      "image/png": "[encoded data removed]",
      "text/plain": [
       "<Figure size 432x288 with 1 Axes>"
      ]
     },
     "metadata": {
      "needs_background": "light"
     },
     "output_type": "display_data"
    }
   ],
   "source": [
    "# Northern Hemisphere\n",
    "linregres(northern_hemi_df[\"Lat\"], northern_hemi_df[\"Cloudiness\"],\"Latitude\",\"Cloudiness\")\n"
   ]
  },
  {
   "cell_type": "code",
   "execution_count": 34,
   "metadata": {},
   "outputs": [
    {
     "name": "stdout",
     "output_type": "stream",
     "text": [
      "r value is 0.2696186012490216\n"
     ]
    },
    {
     "data": {
      "image/png": "[encoded data removed]",
      "text/plain": [
       "<Figure size 432x288 with 1 Axes>"
      ]
     },
     "metadata": {
      "needs_background": "light"
     },
     "output_type": "display_data"
    }
   ],
   "source": [
    "# Southern Hemisphere\n",
    "linregres(southern_hemi_df[\"Lat\"],southern_hemi_df[\"Cloudiness\"],\"Latitude\",\"Cloudiness\")\n"
   ]
  },
  {
   "cell_type": "markdown",
   "metadata": {},
   "source": [
    "**Discussion about the linear relationship:** YOUR RESPONSE HERE"
   ]
  },
  {
   "cell_type": "markdown",
   "metadata": {},
   "source": [
    "### Wind Speed vs. Latitude Linear Regression Plot"
   ]
  },
  {
   "cell_type": "code",
   "execution_count": 35,
   "metadata": {},
   "outputs": [
    {
     "name": "stdout",
     "output_type": "stream",
     "text": [
      "r value is -0.3591370289383187\n"
     ]
    },
    {
     "data": {
      "image/png": "[encoded data removed]",
      "text/plain": [
       "<Figure size 432x288 with 1 Axes>"
      ]
     },
     "metadata": {
      "needs_background": "light"
     },
     "output_type": "display_data"
    }
   ],
   "source": [
    "# Northern Hemisphere\n",
    "linregres(northern_hemi_df[\"Lat\"], northern_hemi_df[\"Wind Speed\"],\"Latitude\",\"Wind Speed\")\n"
   ]
  },
  {
   "cell_type": "code",
   "execution_count": 36,
   "metadata": {},
   "outputs": [
    {
     "name": "stdout",
     "output_type": "stream",
     "text": [
      "r value is -0.3591370289383187\n"
     ]
    },
    {
     "data": {
      "image/png": "[encoded data removed]",
      "text/plain": [
       "<Figure size 432x288 with 1 Axes>"
      ]
     },
     "metadata": {
      "needs_background": "light"
     },
     "output_type": "display_data"
    }
   ],
   "source": [
    "# Southern Hemisphere\n",
    "linregres(southern_hemi_df[\"Lat\"],southern_hemi_df[\"Wind Speed\"],\"Latitude\",\"Wind Speed\")\n"
   ]
  },
  {
   "cell_type": "markdown",
   "metadata": {},
   "source": [
    "**Discussion about the linear relationship:** YOUR RESPONSE HERE"
   ]
  },
  {
   "cell_type": "code",
   "execution_count": null,
   "metadata": {},
   "outputs": [],
   "source": []
  }
 ],
 "metadata": {
  "anaconda-cloud": {},
  "kernel_info": {
   "name": "python3"
  },
  "kernelspec": {
   "display_name": "PythonDataOne",
   "language": "python",
   "name": "python3"
  },
  "language_info": {
   "codemirror_mode": {
    "name": "ipython",
    "version": 3
   },
   "file_extension": ".py",
   "mimetype": "text/x-python",
   "name": "python",
   "nbconvert_exporter": "python",
   "pygments_lexer": "ipython3",
   "version": "3.7.7"
  },
  "latex_envs": {
   "LaTeX_envs_menu_present": true,
   "autoclose": false,
   "autocomplete": true,
   "bibliofile": "biblio.bib",
   "cite_by": "apalike",
   "current_citInitial": 1,
   "eqLabelWithNumbers": true,
   "eqNumInitial": 1,
   "hotkeys": {
    "equation": "Ctrl-E",
    "itemize": "Ctrl-I"
   },
   "labels_anchors": false,
   "latex_user_defs": false,
   "report_style_numbering": false,
   "user_envs_cfg": false
  },
  "nteract": {
   "version": "0.12.3"
  },
  "vscode": {
   "interpreter": {
    "hash": "948d239c3c3d43bdfe7cfc1d249ea8713d5a9d7ca27709b3dbf61ee4952f2ef1"
   }
  }
 },
 "nbformat": 4,
 "nbformat_minor": 4
}
